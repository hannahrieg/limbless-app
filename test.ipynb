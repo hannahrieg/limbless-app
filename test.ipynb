{
 "cells": [
  {
   "cell_type": "code",
   "execution_count": 5,
   "metadata": {},
   "outputs": [],
   "source": [
    "from limbless import models\n",
    "from limbless.db import db_handler\n",
    "from sqlalchemy.orm import selectinload\n"
   ]
  },
  {
   "cell_type": "code",
   "execution_count": 11,
   "metadata": {},
   "outputs": [
    {
     "data": {
      "text/plain": [
       "[(0, 'Transcriptome'),\n",
       " (1, 'Transcriptome Nuclei'),\n",
       " (2, 'Custom Barcoded Feature'),\n",
       " (3, 'Antibody Quantification'),\n",
       " (4, 'Visium'),\n",
       " (5, 'Chromatin')]"
      ]
     },
     "execution_count": 11,
     "metadata": {},
     "output_type": "execute_result"
    }
   ],
   "source": [
    "models.LibraryType.as_tuples()"
   ]
  },
  {
   "cell_type": "code",
   "execution_count": 6,
   "metadata": {},
   "outputs": [
    {
     "data": {
      "text/plain": [
       "Sample(name='Sample_01', organism_id=9606, id=1, project_id=1, indices=[])"
      ]
     },
     "execution_count": 6,
     "metadata": {},
     "output_type": "execute_result"
    }
   ],
   "source": [
    "db_handler.open_session()\n",
    "sample = db_handler._session.query(models.Sample).where(\n",
    "    models.Sample.id == 1\n",
    ").first()\n",
    "db_handler.close_session()\n",
    "sample"
   ]
  },
  {
   "cell_type": "code",
   "execution_count": 7,
   "metadata": {},
   "outputs": [
    {
     "data": {
      "text/plain": [
       "[]"
      ]
     },
     "execution_count": 7,
     "metadata": {},
     "output_type": "execute_result"
    }
   ],
   "source": [
    "sample.indices"
   ]
  },
  {
   "cell_type": "code",
   "execution_count": null,
   "metadata": {},
   "outputs": [],
   "source": [
    "db_handler._session.query(models.Sample).join(\n",
    "    models.Organism, models.Organism.tax_id == models.Sample.organism_id\n",
    ").join(\n",
    "    models.SampleSeqIndexLink, models.SampleSeqIndexLink.sample_id == models.Sample.id\n",
    ").join(\n",
    "    models.SeqIndex, models.SampleSeqIndexLink.seq_index_id == models.SeqIndex.id\n",
    ").options(\n",
    "    selectinload(models.Sample.organism),\n",
    "    selectinload(models.Sample.indices),\n",
    ").where(\n",
    "    models.Sample.id == sample_id\n",
    ").first()"
   ]
  }
 ],
 "metadata": {
  "kernelspec": {
   "display_name": "dev",
   "language": "python",
   "name": "python3"
  },
  "language_info": {
   "codemirror_mode": {
    "name": "ipython",
    "version": 3
   },
   "file_extension": ".py",
   "mimetype": "text/x-python",
   "name": "python",
   "nbconvert_exporter": "python",
   "pygments_lexer": "ipython3",
   "version": "3.10.9"
  },
  "orig_nbformat": 4
 },
 "nbformat": 4,
 "nbformat_minor": 2
}
